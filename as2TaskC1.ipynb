{
 "cells": [
  {
   "cell_type": "markdown",
   "metadata": {},
   "source": [
    "# FIT5148 - Distributed Databases and Big Data\n",
    "\n",
    "# Assignment 2 TaskC1 - Solution Workbook\n",
    "\n",
    "**Your details:**\n",
    "- Name: Zhiqing Shu\n",
    "- Student ID: 28217551\n",
    "\n",
    "- Name: Yicheng Zhang\n",
    "- Student ID: 27699641\n",
    "\n",
    "Let's get started!"
   ]
  },
  {
   "cell_type": "markdown",
   "metadata": {},
   "source": [
    "**1.Write a python “generate streams” application to feed data from a file into a stream. The\n",
    "application should set the timing such that one tuple from “Climate Data-Part2” and five\n",
    "tuple from “Fire Data-Part2” are sent into the stream every second. “DataType” column\n",
    "in the record can be used to distinguish between the streams.**\n"
   ]
  },
  {
   "cell_type": "code",
   "execution_count": null,
   "metadata": {},
   "outputs": [],
   "source": [
    "# Socket for TCP server\n",
    "# Time for stop and send\n",
    "# datetime to add timestamp\n",
    "import socket\n",
    "import time\n",
    "import datetime"
   ]
  },
  {
   "cell_type": "code",
   "execution_count": null,
   "metadata": {},
   "outputs": [],
   "source": [
    "def Server():\n",
    "    # AF_INET -> IPv4 address, #SOCK_STREAM -> TCP socket\n",
    "    s = socket.socket(socket.AF_INET, socket.SOCK_STREAM)\n",
    "    # bind local host and port 9999\n",
    "    s.bind(('localhost',9999))\n",
    "    # most connections for clients\n",
    "    \n",
    "    # it specifies the number of unaccepted connections that \n",
    "    # the system will allow before refusing new connections.\n",
    "    # Listen for connections made to the socket.\n",
    "    s.listen(5)\n",
    "    \n",
    "    while True:\n",
    "        print (\"Started...\")\n",
    "        # Wait until client connections\n",
    "        \n",
    "        # Accept a connection. \n",
    "        # The socket must be bound to an address and listening for connections. \n",
    "        # The return value is a pair (conn, address) where conn is a new socket object \n",
    "        # usable to send and receive data on the connection, and address is the address \n",
    "        # bound to the socket on the other end of the connection.\n",
    "        conn,address = s.accept()\n",
    "        print (\"address is :\" + str(address))\n",
    "        i = 0\n",
    "        #Load files as List\n",
    "        fireList = []\n",
    "        climateList = []\n",
    "        for firerow in open(\"FireData-Part2.csv\",'rb'):\n",
    "                fireList.append(firerow)\n",
    "        for climaterow in open(\"ClimateData-Part2.csv\",'rb'):\n",
    "                climateList.append(climaterow)\n",
    "        fireList.pop(0)\n",
    "        climateList.pop(0)\n",
    "        \n",
    "        while (i + 1) * 5 < len(fireList):\n",
    "                # Send data with 1 climate tuple and 5 fire tuples, add timestamp \n",
    "                if i < len(climateList):\n",
    "                    curTime = datetime.datetime.now().strftime(\"%Y-%m-%dT%H:%M:%S\") + \",\"\n",
    "                    # Byte type for socket transmission\n",
    "                    b_curTime = curTime.encode()\n",
    "                    conn.send(b_curTime + climateList[i])\n",
    "                    for u in range(i * 5,(i + 1) * 5):\n",
    "                        conn.send(b_curTime + fireList[u])\n",
    "                    i += 1\n",
    "                    # Wait one second \n",
    "                    time.sleep(1)\n",
    "                # After all climate data are sent\n",
    "                else:\n",
    "                    curTime = datetime.datetime.now().strftime(\"%Y-%m-%dT%H:%M:%S\")+\",\"\n",
    "                    b_curTime = curTime.encode()\n",
    "                    for u in range(i * 5,(i + 1) * 5):\n",
    "                        conn.send(b_curTime + fireList[u])\n",
    "                    i += 1\n",
    "                    time.sleep(1)\n",
    "                    \n",
    "        # Close server\n",
    "        conn.close()"
   ]
  },
  {
   "cell_type": "code",
   "execution_count": null,
   "metadata": {},
   "outputs": [],
   "source": [
    "Server()"
   ]
  },
  {
   "cell_type": "code",
   "execution_count": null,
   "metadata": {},
   "outputs": [],
   "source": []
  }
 ],
 "metadata": {
  "kernelspec": {
   "display_name": "Python 3",
   "language": "python",
   "name": "python3"
  },
  "language_info": {
   "codemirror_mode": {
    "name": "ipython",
    "version": 3
   },
   "file_extension": ".py",
   "mimetype": "text/x-python",
   "name": "python",
   "nbconvert_exporter": "python",
   "pygments_lexer": "ipython3",
   "version": "3.7.3"
  }
 },
 "nbformat": 4,
 "nbformat_minor": 2
}
